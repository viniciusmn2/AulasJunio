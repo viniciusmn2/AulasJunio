{
  "nbformat": 4,
  "nbformat_minor": 0,
  "metadata": {
    "colab": {
      "provenance": [],
      "authorship_tag": "ABX9TyN2WgyTontHXMNr+wx5sTMm",
      "include_colab_link": true
    },
    "kernelspec": {
      "name": "python3",
      "display_name": "Python 3"
    },
    "language_info": {
      "name": "python"
    }
  },
  "cells": [
    {
      "cell_type": "markdown",
      "metadata": {
        "id": "view-in-github",
        "colab_type": "text"
      },
      "source": [
        "<a href=\"https://colab.research.google.com/github/viniciusmn2/AulasJunio/blob/main/Untitled2.ipynb\" target=\"_parent\"><img src=\"https://colab.research.google.com/assets/colab-badge.svg\" alt=\"Open In Colab\"/></a>"
      ]
    },
    {
      "cell_type": "code",
      "execution_count": null,
      "metadata": {
        "id": "QZXP4RuQOeXv"
      },
      "outputs": [],
      "source": [
        "Scanner sc = new Scanner(System.in);\n",
        "\t\t\n",
        "\t\tSystem.out.println(\"Informe um numero : \");\n",
        "\t\tint n1 = sc.nextInt();\n",
        "\t\t\n",
        "\t\t\n",
        "\t\tif (n1 % 3== 0) {\n",
        "\t\t\tSystem.out.println(\"É multiplo de 3!!!\");\n",
        "\t\t} else {\n",
        "\t\t\tSystem.out.println(\"Não é multiplo de 3!!!\");\n",
        "\t\t}\n",
        "\t\t"
      ]
    }
  ]
}